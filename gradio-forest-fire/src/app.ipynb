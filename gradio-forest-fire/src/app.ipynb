{
 "cells": [
  {
   "cell_type": "code",
   "execution_count": 1,
   "id": "c23f7ee3",
   "metadata": {},
   "outputs": [
    {
     "name": "stdout",
     "output_type": "stream",
     "text": [
      "* Running on local URL:  http://127.0.0.1:7860\n",
      "\n",
      "To create a public link, set `share=True` in `launch()`.\n"
     ]
    },
    {
     "data": {
      "text/html": [
       "<div><iframe src=\"http://127.0.0.1:7860/\" width=\"100%\" height=\"500\" allow=\"autoplay; camera; microphone; clipboard-read; clipboard-write;\" frameborder=\"0\" allowfullscreen></iframe></div>"
      ],
      "text/plain": [
       "<IPython.core.display.HTML object>"
      ]
     },
     "metadata": {},
     "output_type": "display_data"
    },
    {
     "data": {
      "text/plain": []
     },
     "execution_count": 1,
     "metadata": {},
     "output_type": "execute_result"
    }
   ],
   "source": [
    "import gradio as gr\n",
    "import numpy as np\n",
    "import matplotlib.pyplot as plt\n",
    "from matplotlib import colors\n",
    "from matplotlib.animation import FuncAnimation, FFMpegWriter\n",
    "import tempfile\n",
    "import os\n",
    "from numba import jit\n",
    "\n",
    "# --- Константы и цвета ---\n",
    "NEIGHBOURHOOD = ((-1,-1), (-1,0), (-1,1), (0,-1), (0,1), (1,-1), (1,0), (1,1))\n",
    "EMPTY, TREE, FIRE = 0, 1, 2\n",
    "colors_list = [(0.2,0,0), (0,0.5,0), (1,0,0), 'orange']\n",
    "cmap = colors.ListedColormap(colors_list)\n",
    "bounds = [0,1,2,3,4]\n",
    "norm = colors.BoundaryNorm(bounds, cmap.N)\n",
    "\n",
    "@jit(nopython=True)\n",
    "def iterate_optimized(X_curr, p_growth, f_lightning, ny_dim, nx_dim):\n",
    "    X_next = np.zeros((ny_dim, nx_dim), dtype=X_curr.dtype)\n",
    "    for r in range(1, ny_dim - 1):\n",
    "        for c in range(1, nx_dim - 1):\n",
    "            current_state = X_curr[r, c]\n",
    "            if current_state == EMPTY:\n",
    "                if np.random.random() <= p_growth:\n",
    "                    X_next[r, c] = TREE\n",
    "            elif current_state == TREE:\n",
    "                X_next[r, c] = TREE\n",
    "                caught_fire_from_neighbor = False\n",
    "                for dr, dc in NEIGHBOURHOOD:\n",
    "                    is_diagonal = (abs(dr) == abs(dc))\n",
    "                    can_spread_from_this_neighbor = True\n",
    "                    if is_diagonal and np.random.random() < 0.573:\n",
    "                        can_spread_from_this_neighbor = False\n",
    "                    if can_spread_from_this_neighbor:\n",
    "                        if X_curr[r + dr, c + dc] == FIRE:\n",
    "                            X_next[r, c] = FIRE\n",
    "                            caught_fire_from_neighbor = True\n",
    "                            break\n",
    "                if not caught_fire_from_neighbor:\n",
    "                    if np.random.random() <= f_lightning:\n",
    "                        X_next[r, c] = FIRE\n",
    "    return X_next\n",
    "\n",
    "def create_forest_animation(seed=0, frames=100, size=200, p=0.02, f=0.0001, forest_fraction=0.2, fps=20):\n",
    "    np.random.seed(seed)\n",
    "    ny, nx = size, size\n",
    "    X = np.zeros((ny, nx), dtype=np.int8)\n",
    "    interior_mask = np.random.random(size=(ny-2, nx-2)) < forest_fraction\n",
    "    X[1:ny-1, 1:nx-1] = np.where(interior_mask, TREE, EMPTY).astype(np.int8)\n",
    "\n",
    "    dpi = 100\n",
    "    figsize = (size / dpi, size / dpi)  # <--- Ваша строка\n",
    "    fig, ax = plt.subplots(figsize=figsize, dpi=dpi)\n",
    "    ax.set_xticks([])\n",
    "    ax.set_yticks([])\n",
    "    #ax.axis('off')\n",
    "    ax.set_axis_off()\n",
    "    plt.tight_layout(pad=0)\n",
    "    im = ax.imshow(X, cmap=cmap, norm=norm, interpolation='nearest')\n",
    "\n",
    "    def animate(i):\n",
    "        nonlocal X\n",
    "        X = iterate_optimized(X, p, f, ny, nx)\n",
    "        im.set_data(X)\n",
    "        return [im]\n",
    "\n",
    "    writer = FFMpegWriter(fps=fps, bitrate=int(size*size*fps*0.08))\n",
    "    tmp_file = tempfile.NamedTemporaryFile(suffix=\".mp4\", delete=False)\n",
    "    ani = FuncAnimation(fig, animate, frames=frames, interval=1000/fps, blit=True)\n",
    "    ani.save(tmp_file.name, writer=writer)\n",
    "    plt.close(fig)\n",
    "    return tmp_file.name\n",
    "\n",
    "def gradio_grid(seed, grid_size, size, frames, p, f, forest_fraction):\n",
    "    video_items = []\n",
    "    for i in range(grid_size):\n",
    "        for j in range(grid_size):\n",
    "            cell_seed = seed + i * grid_size + j\n",
    "            video_path = create_forest_animation(\n",
    "                seed=cell_seed, frames=frames, size=size, p=p, f=f, forest_fraction=forest_fraction\n",
    "            )\n",
    "            label = f\"Seed: {cell_seed} ({i},{j})\"\n",
    "            video_items.append((video_path, label))\n",
    "    return video_items\n",
    "\n",
    "gr.Interface(\n",
    "    fn=gradio_grid,\n",
    "    inputs=[\n",
    "        gr.Number(label=\"Random Seed\", value=0),\n",
    "        gr.Slider(1, 10, value=1, step=1, label=\"Grid Size GR (GRxGR)\"),\n",
    "        gr.Slider(50, 1500, value=100, step=10, label=\"Forest Size (NxN)\"),\n",
    "        gr.Slider(10, 2000, value=50, step=1, label=\"Number of Frames\"),\n",
    "        gr.Slider(0.001, 0.1, value=0.02, step=0.001, label=\"Tree Growth Probability (p)\"),\n",
    "        gr.Slider(0.0, 0.01, value=0.0001, step=0.0001, label=\"Lightning Probability (f)\"),\n",
    "        gr.Slider(0.01, 1.0, value=0.2, step=0.01, label=\"Initial Forest Fraction\"),\n",
    "    ],\n",
    "    outputs=gr.Gallery(label=\"Forest Fire Animation Grid (MP4)\", columns=5, height=\"auto\"),\n",
    "    title=\"Forest Fire Cellular Automaton Animation Grid\",\n",
    "    description=\"Simulates a GRxGR grid of independent forest fire cellular automata. Download the MP4 animations.\"\n",
    ").launch()"
   ]
  }
 ],
 "metadata": {
  "kernelspec": {
   "display_name": "base",
   "language": "python",
   "name": "python3"
  },
  "language_info": {
   "codemirror_mode": {
    "name": "ipython",
    "version": 3
   },
   "file_extension": ".py",
   "mimetype": "text/x-python",
   "name": "python",
   "nbconvert_exporter": "python",
   "pygments_lexer": "ipython3",
   "version": "3.12.3"
  }
 },
 "nbformat": 4,
 "nbformat_minor": 5
}
